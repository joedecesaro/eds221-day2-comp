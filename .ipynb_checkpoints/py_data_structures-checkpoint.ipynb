{
 "cells": [
  {
   "cell_type": "markdown",
   "id": "84d246cf",
   "metadata": {},
   "source": [
    "## Make and index some data in python\n",
    "\n",
    "Creating vectors, and a pandas DataFrame, some wlow-key indexing"
   ]
  },
  {
   "cell_type": "code",
   "execution_count": 1,
   "id": "3d81e365",
   "metadata": {},
   "outputs": [],
   "source": [
    "import numpy as np\n",
    "import pandas as pd"
   ]
  },
  {
   "cell_type": "code",
   "execution_count": 13,
   "id": "482fa84b",
   "metadata": {},
   "outputs": [
    {
     "data": {
      "text/plain": [
       "[1, 2, 8, 10, 20, 1000]"
      ]
     },
     "execution_count": 13,
     "metadata": {},
     "output_type": "execute_result"
    }
   ],
   "source": [
    "teddy = [1, 2, 8]\n",
    "type(teddy)\n",
    "\n",
    "khora = [10, 20, 1000]\n",
    "type(khora)\n",
    "\n",
    "teddy + khora"
   ]
  },
  {
   "cell_type": "code",
   "execution_count": 9,
   "id": "0eb263fe",
   "metadata": {},
   "outputs": [
    {
     "data": {
      "text/plain": [
       "array([1, 2, 8])"
      ]
     },
     "execution_count": 9,
     "metadata": {},
     "output_type": "execute_result"
    }
   ],
   "source": [
    "teddy_vec = np.array(teddy)\n",
    "type(teddy_vec)\n",
    "\n",
    "teddy_vec"
   ]
  },
  {
   "cell_type": "code",
   "execution_count": 10,
   "id": "a3516d5a",
   "metadata": {},
   "outputs": [
    {
     "data": {
      "text/plain": [
       "2"
      ]
     },
     "execution_count": 10,
     "metadata": {},
     "output_type": "execute_result"
    }
   ],
   "source": [
    "teddy[1]"
   ]
  },
  {
   "cell_type": "code",
   "execution_count": 12,
   "id": "077cda35",
   "metadata": {},
   "outputs": [
    {
     "data": {
      "text/plain": [
       "[1, 5000, 8]"
      ]
     },
     "execution_count": 12,
     "metadata": {},
     "output_type": "execute_result"
    }
   ],
   "source": [
    "teddy[1] = 5000\n",
    "teddy"
   ]
  },
  {
   "cell_type": "code",
   "execution_count": 15,
   "id": "34941bc3",
   "metadata": {},
   "outputs": [
    {
     "ename": "TypeError",
     "evalue": "'tuple' object does not support item assignment",
     "output_type": "error",
     "traceback": [
      "\u001b[0;31m---------------------------------------------------------------------------\u001b[0m",
      "\u001b[0;31mTypeError\u001b[0m                                 Traceback (most recent call last)",
      "\u001b[0;32m<ipython-input-15-df5ef807fd25>\u001b[0m in \u001b[0;36m<module>\u001b[0;34m\u001b[0m\n\u001b[1;32m      1\u001b[0m \u001b[0myogi\u001b[0m \u001b[0;34m=\u001b[0m \u001b[0;34m(\u001b[0m\u001b[0;36m5\u001b[0m\u001b[0;34m,\u001b[0m \u001b[0;36m6\u001b[0m\u001b[0;34m,\u001b[0m \u001b[0;36m200\u001b[0m\u001b[0;34m)\u001b[0m\u001b[0;34m\u001b[0m\u001b[0;34m\u001b[0m\u001b[0m\n\u001b[1;32m      2\u001b[0m \u001b[0;34m\u001b[0m\u001b[0m\n\u001b[0;32m----> 3\u001b[0;31m \u001b[0myogi\u001b[0m\u001b[0;34m[\u001b[0m\u001b[0;36m1\u001b[0m\u001b[0;34m]\u001b[0m \u001b[0;34m=\u001b[0m \u001b[0;36m100\u001b[0m\u001b[0;34m\u001b[0m\u001b[0;34m\u001b[0m\u001b[0m\n\u001b[0m",
      "\u001b[0;31mTypeError\u001b[0m: 'tuple' object does not support item assignment"
     ]
    }
   ],
   "source": [
    "yogi = (5, 6, 200)\n",
    "\n",
    "yogi[1] = 100"
   ]
  },
  {
   "cell_type": "code",
   "execution_count": 24,
   "id": "b1ae6104",
   "metadata": {},
   "outputs": [],
   "source": [
    "waffle = [2.9, \"a burrito\", [0, 1, 15], True]"
   ]
  },
  {
   "cell_type": "code",
   "execution_count": 20,
   "id": "034c3e1f",
   "metadata": {},
   "outputs": [
    {
     "data": {
      "text/plain": [
       "[2, 'a burrito', [0, 1, 15], True]"
      ]
     },
     "execution_count": 20,
     "metadata": {},
     "output_type": "execute_result"
    }
   ],
   "source": [
    "waffle"
   ]
  },
  {
   "cell_type": "code",
   "execution_count": 21,
   "id": "9e364191",
   "metadata": {},
   "outputs": [
    {
     "data": {
      "text/plain": [
       "[0, 1, 15]"
      ]
     },
     "execution_count": 21,
     "metadata": {},
     "output_type": "execute_result"
    }
   ],
   "source": [
    "waffle[2]"
   ]
  },
  {
   "cell_type": "code",
   "execution_count": 25,
   "id": "8387f94a",
   "metadata": {},
   "outputs": [
    {
     "data": {
      "text/plain": [
       "float"
      ]
     },
     "execution_count": 25,
     "metadata": {},
     "output_type": "execute_result"
    }
   ],
   "source": [
    "type(waffle[0])"
   ]
  },
  {
   "cell_type": "code",
   "execution_count": 26,
   "id": "50639b1c",
   "metadata": {},
   "outputs": [],
   "source": [
    "waffle[0] = \"it's tuesday\""
   ]
  },
  {
   "cell_type": "code",
   "execution_count": 27,
   "id": "5b5b053c",
   "metadata": {},
   "outputs": [
    {
     "data": {
      "text/plain": [
       "[\"it's tuesday\", 'a burrito', [0, 1, 15], True]"
      ]
     },
     "execution_count": 27,
     "metadata": {},
     "output_type": "execute_result"
    }
   ],
   "source": [
    "waffle"
   ]
  },
  {
   "cell_type": "code",
   "execution_count": 28,
   "id": "0f3ef4c8",
   "metadata": {},
   "outputs": [],
   "source": [
    "cows = {'name': [\"moo\", \"spots\", \"happy\"], 'location': [\"pasture\", \"prarie\", \"barn\"]}"
   ]
  },
  {
   "cell_type": "code",
   "execution_count": 29,
   "id": "34f5fa81",
   "metadata": {},
   "outputs": [
    {
     "data": {
      "text/plain": [
       "{'name': ['moo', 'spots', 'happy'], 'location': ['pasture', 'prarie', 'barn']}"
      ]
     },
     "execution_count": 29,
     "metadata": {},
     "output_type": "execute_result"
    }
   ],
   "source": [
    "cows"
   ]
  },
  {
   "cell_type": "code",
   "execution_count": 30,
   "id": "cdc8d9c1",
   "metadata": {},
   "outputs": [],
   "source": [
    "cows_df = pd.DataFrame(cows)"
   ]
  },
  {
   "cell_type": "code",
   "execution_count": 31,
   "id": "0fd2c67a",
   "metadata": {},
   "outputs": [
    {
     "data": {
      "text/html": [
       "<div>\n",
       "<style scoped>\n",
       "    .dataframe tbody tr th:only-of-type {\n",
       "        vertical-align: middle;\n",
       "    }\n",
       "\n",
       "    .dataframe tbody tr th {\n",
       "        vertical-align: top;\n",
       "    }\n",
       "\n",
       "    .dataframe thead th {\n",
       "        text-align: right;\n",
       "    }\n",
       "</style>\n",
       "<table border=\"1\" class=\"dataframe\">\n",
       "  <thead>\n",
       "    <tr style=\"text-align: right;\">\n",
       "      <th></th>\n",
       "      <th>name</th>\n",
       "      <th>location</th>\n",
       "    </tr>\n",
       "  </thead>\n",
       "  <tbody>\n",
       "    <tr>\n",
       "      <th>0</th>\n",
       "      <td>moo</td>\n",
       "      <td>pasture</td>\n",
       "    </tr>\n",
       "    <tr>\n",
       "      <th>1</th>\n",
       "      <td>spots</td>\n",
       "      <td>prarie</td>\n",
       "    </tr>\n",
       "    <tr>\n",
       "      <th>2</th>\n",
       "      <td>happy</td>\n",
       "      <td>barn</td>\n",
       "    </tr>\n",
       "  </tbody>\n",
       "</table>\n",
       "</div>"
      ],
      "text/plain": [
       "    name location\n",
       "0    moo  pasture\n",
       "1  spots   prarie\n",
       "2  happy     barn"
      ]
     },
     "execution_count": 31,
     "metadata": {},
     "output_type": "execute_result"
    }
   ],
   "source": [
    "cows_df"
   ]
  },
  {
   "cell_type": "code",
   "execution_count": null,
   "id": "edcc45f9",
   "metadata": {},
   "outputs": [],
   "source": []
  }
 ],
 "metadata": {
  "kernelspec": {
   "display_name": "Python 3",
   "language": "python",
   "name": "python3"
  },
  "language_info": {
   "codemirror_mode": {
    "name": "ipython",
    "version": 3
   },
   "file_extension": ".py",
   "mimetype": "text/x-python",
   "name": "python",
   "nbconvert_exporter": "python",
   "pygments_lexer": "ipython3",
   "version": "3.8.8"
  }
 },
 "nbformat": 4,
 "nbformat_minor": 5
}
